{
  "cells": [
    {
      "cell_type": "code",
      "execution_count": null,
      "metadata": {
        "collapsed": true,
        "id": "HEHefW3qz8xt"
      },
      "outputs": [
        {
          "name": "stdout",
          "output_type": "stream",
          "text": [
            "zsh:1: command not found: pip33\n"
          ]
        }
      ],
      "source": [
        "!pip3 install qiskit"
      ]
    },
    {
      "cell_type": "code",
      "execution_count": 6,
      "metadata": {
        "collapsed": true,
        "id": "QaUx5O-x8Wvj"
      },
      "outputs": [
        {
          "name": "stdout",
          "output_type": "stream",
          "text": [
            "Defaulting to user installation because normal site-packages is not writeable\n",
            "Collecting qiskit_ibm_runtime\n",
            "  Downloading qiskit_ibm_runtime-0.42.0-py3-none-any.whl (1.4 MB)\n",
            "\u001b[K     |████████████████████████████████| 1.4 MB 315 kB/s eta 0:00:01\n",
            "\u001b[?25hRequirement already satisfied: requests>=2.19 in /Users/harshitagarwal/Library/Python/3.9/lib/python/site-packages (from qiskit_ibm_runtime) (2.32.5)\n",
            "Requirement already satisfied: urllib3>=1.21.1 in /Users/harshitagarwal/Library/Python/3.9/lib/python/site-packages (from qiskit_ibm_runtime) (2.5.0)\n",
            "Requirement already satisfied: python-dateutil>=2.8.0 in /Users/harshitagarwal/Library/Python/3.9/lib/python/site-packages (from qiskit_ibm_runtime) (2.9.0.post0)\n",
            "Collecting ibm-platform-services>=0.22.6\n",
            "  Downloading ibm_platform_services-0.69.0-py3-none-any.whl (368 kB)\n",
            "\u001b[K     |████████████████████████████████| 368 kB 123 kB/s eta 0:00:01\n",
            "\u001b[?25hRequirement already satisfied: numpy>=1.13 in /Users/harshitagarwal/Library/Python/3.9/lib/python/site-packages (from qiskit_ibm_runtime) (2.0.2)\n",
            "Collecting pydantic>=2.5.0\n",
            "  Downloading pydantic-2.11.10-py3-none-any.whl (444 kB)\n",
            "\u001b[K     |████████████████████████████████| 444 kB 668 kB/s eta 0:00:01\n",
            "\u001b[?25hRequirement already satisfied: packaging in /Users/harshitagarwal/Library/Python/3.9/lib/python/site-packages (from qiskit_ibm_runtime) (25.0)\n",
            "Collecting qiskit>=1.4.1\n",
            "  Downloading qiskit-2.2.1-cp39-abi3-macosx_11_0_arm64.whl (7.3 MB)\n",
            "\u001b[K     |████████████████████████████████| 7.3 MB 589 kB/s eta 0:00:01\n",
            "\u001b[?25hCollecting requests-ntlm>=1.1.0\n",
            "  Downloading requests_ntlm-1.3.0-py3-none-any.whl (6.6 kB)\n",
            "Collecting ibm_cloud_sdk_core<4.0.0,>=3.24.2\n",
            "  Downloading ibm_cloud_sdk_core-3.24.2-py3-none-any.whl (75 kB)\n",
            "\u001b[K     |████████████████████████████████| 75 kB 2.7 MB/s eta 0:00:01\n",
            "\u001b[?25hCollecting PyJWT<3.0.0,>=2.10.1\n",
            "  Downloading PyJWT-2.10.1-py3-none-any.whl (22 kB)\n",
            "Collecting pydantic-core==2.33.2\n",
            "  Downloading pydantic_core-2.33.2-cp39-cp39-macosx_11_0_arm64.whl (1.9 MB)\n",
            "\u001b[K     |████████████████████████████████| 1.9 MB 528 kB/s eta 0:00:01\n",
            "\u001b[?25hCollecting typing-inspection>=0.4.0\n",
            "  Downloading typing_inspection-0.4.2-py3-none-any.whl (14 kB)\n",
            "Collecting annotated-types>=0.6.0\n",
            "  Downloading annotated_types-0.7.0-py3-none-any.whl (13 kB)\n",
            "Requirement already satisfied: typing-extensions>=4.12.2 in /Users/harshitagarwal/Library/Python/3.9/lib/python/site-packages (from pydantic>=2.5.0->qiskit_ibm_runtime) (4.15.0)\n",
            "Requirement already satisfied: six>=1.5 in /Library/Developer/CommandLineTools/Library/Frameworks/Python3.framework/Versions/3.9/lib/python3.9/site-packages (from python-dateutil>=2.8.0->qiskit_ibm_runtime) (1.15.0)\n",
            "Requirement already satisfied: scipy>=1.5 in /Users/harshitagarwal/Library/Python/3.9/lib/python/site-packages (from qiskit>=1.4.1->qiskit_ibm_runtime) (1.13.1)\n",
            "Collecting stevedore>=3.0.0\n",
            "  Downloading stevedore-5.5.0-py3-none-any.whl (49 kB)\n",
            "\u001b[K     |████████████████████████████████| 49 kB 1.6 MB/s eta 0:00:01\n",
            "\u001b[?25hCollecting dill>=0.3\n",
            "  Downloading dill-0.4.0-py3-none-any.whl (119 kB)\n",
            "\u001b[K     |████████████████████████████████| 119 kB 1.7 MB/s eta 0:00:01\n",
            "\u001b[?25hCollecting rustworkx>=0.15.0\n",
            "  Downloading rustworkx-0.17.1-cp39-abi3-macosx_11_0_arm64.whl (2.0 MB)\n",
            "\u001b[K     |████████████████████████████████| 2.0 MB 1.3 MB/s eta 0:00:01\n",
            "\u001b[?25hRequirement already satisfied: charset_normalizer<4,>=2 in /Users/harshitagarwal/Library/Python/3.9/lib/python/site-packages (from requests>=2.19->qiskit_ibm_runtime) (3.4.3)\n",
            "Requirement already satisfied: idna<4,>=2.5 in /Users/harshitagarwal/Library/Python/3.9/lib/python/site-packages (from requests>=2.19->qiskit_ibm_runtime) (3.10)\n",
            "Requirement already satisfied: certifi>=2017.4.17 in /Users/harshitagarwal/Library/Python/3.9/lib/python/site-packages (from requests>=2.19->qiskit_ibm_runtime) (2025.8.3)\n",
            "Collecting pyspnego>=0.4.0\n",
            "  Downloading pyspnego-0.12.0-py3-none-any.whl (130 kB)\n",
            "\u001b[K     |████████████████████████████████| 130 kB 1.2 MB/s eta 0:00:01\n",
            "\u001b[?25hCollecting cryptography>=1.3\n",
            "  Downloading cryptography-46.0.2-cp38-abi3-macosx_10_9_universal2.whl (7.2 MB)\n",
            "\u001b[K     |████████████████████████████████| 7.2 MB 2.1 MB/s eta 0:00:01\n",
            "\u001b[?25hCollecting cffi>=2.0.0\n",
            "  Downloading cffi-2.0.0-cp39-cp39-macosx_11_0_arm64.whl (180 kB)\n",
            "\u001b[K     |████████████████████████████████| 180 kB 2.7 MB/s eta 0:00:01\n",
            "\u001b[?25hCollecting pycparser\n",
            "  Downloading pycparser-2.23-py3-none-any.whl (118 kB)\n",
            "\u001b[K     |████████████████████████████████| 118 kB 2.7 MB/s eta 0:00:01\n",
            "\u001b[?25hInstalling collected packages: pycparser, cffi, PyJWT, cryptography, typing-inspection, stevedore, rustworkx, pyspnego, pydantic-core, ibm-cloud-sdk-core, dill, annotated-types, requests-ntlm, qiskit, pydantic, ibm-platform-services, qiskit-ibm-runtime\n",
            "Successfully installed PyJWT-2.10.1 annotated-types-0.7.0 cffi-2.0.0 cryptography-46.0.2 dill-0.4.0 ibm-cloud-sdk-core-3.24.2 ibm-platform-services-0.69.0 pycparser-2.23 pydantic-2.11.10 pydantic-core-2.33.2 pyspnego-0.12.0 qiskit-2.2.1 qiskit-ibm-runtime-0.42.0 requests-ntlm-1.3.0 rustworkx-0.17.1 stevedore-5.5.0 typing-inspection-0.4.2\n",
            "\u001b[33mWARNING: You are using pip version 21.2.4; however, version 25.2 is available.\n",
            "You should consider upgrading via the '/Library/Developer/CommandLineTools/usr/bin/python3 -m pip install --upgrade pip' command.\u001b[0m\n"
          ]
        }
      ],
      "source": [
        "!pip3 install qiskit_ibm_runtime"
      ]
    },
    {
      "cell_type": "code",
      "execution_count": 7,
      "metadata": {
        "id": "HB4aNPobz8u3"
      },
      "outputs": [
        {
          "name": "stdout",
          "output_type": "stream",
          "text": [
            "Defaulting to user installation because normal site-packages is not writeable\n",
            "Collecting pylatexenc\n",
            "  Downloading pylatexenc-2.10.tar.gz (162 kB)\n",
            "\u001b[K     |████████████████████████████████| 162 kB 4.1 MB/s eta 0:00:01\n",
            "\u001b[?25hBuilding wheels for collected packages: pylatexenc\n",
            "  Building wheel for pylatexenc (setup.py) ... \u001b[?25ldone\n",
            "\u001b[?25h  Created wheel for pylatexenc: filename=pylatexenc-2.10-py3-none-any.whl size=136833 sha256=55c89e4699f84a214c43bb2cf01813aabbec5d745fa0f95f7ac64f3290308b5a\n",
            "  Stored in directory: /Users/harshitagarwal/Library/Caches/pip/wheels/a3/68/66/2f15abd0673d83c02f354115feedeb89c3daed2ac319b11090\n",
            "Successfully built pylatexenc\n",
            "Installing collected packages: pylatexenc\n",
            "Successfully installed pylatexenc-2.10\n",
            "\u001b[33mWARNING: You are using pip version 21.2.4; however, version 25.2 is available.\n",
            "You should consider upgrading via the '/Library/Developer/CommandLineTools/usr/bin/python3 -m pip install --upgrade pip' command.\u001b[0m\n"
          ]
        }
      ],
      "source": [
        "!pip3 install pylatexenc"
      ]
    },
    {
      "cell_type": "code",
      "execution_count": 8,
      "metadata": {
        "id": "KOEJHbChz8so"
      },
      "outputs": [
        {
          "name": "stderr",
          "output_type": "stream",
          "text": [
            "/var/folders/yn/q_cgy5m947g4bj3shsg12lpc0000gn/T/ipykernel_15266/1746812456.py:2: DeprecationWarning: Using Qiskit with Python 3.9 is deprecated as of the 2.1.0 release. Support for running Qiskit with Python 3.9 will be removed in the 2.3.0 release, which coincides with when Python 3.9 goes end of life.\n",
            "  import qiskit\n"
          ]
        }
      ],
      "source": [
        "import matplotlib.pyplot as plt\n",
        "import qiskit\n",
        "import pylatexenc"
      ]
    },
    {
      "cell_type": "code",
      "execution_count": 9,
      "metadata": {
        "id": "QlSGZr143lYH"
      },
      "outputs": [],
      "source": [
        "from qiskit import QuantumCircuit"
      ]
    },
    {
      "cell_type": "markdown",
      "metadata": {
        "id": "cT7omTFA5VHd"
      },
      "source": [
        "## Quantum Circuit ->\n",
        "1 Qubit System"
      ]
    },
    {
      "cell_type": "code",
      "execution_count": 10,
      "metadata": {
        "id": "wSIPIfxj3lVQ"
      },
      "outputs": [],
      "source": [
        "circuit = QuantumCircuit(1, 1)"
      ]
    },
    {
      "cell_type": "code",
      "execution_count": 11,
      "metadata": {
        "colab": {
          "base_uri": "https://localhost:8080/",
          "height": 191
        },
        "collapsed": true,
        "id": "QjoNojBM3lTL",
        "outputId": "19ec593d-8bb0-41ad-ed8e-d3b637431da8"
      },
      "outputs": [
        {
          "data": {
            "image/png": "[encoded data removed]",
            "text/plain": [
              "<Figure size 143.647x200.667 with 1 Axes>"
            ]
          },
          "execution_count": 11,
          "metadata": {},
          "output_type": "execute_result"
        }
      ],
      "source": [
        "circuit.draw('mpl')"
      ]
    },
    {
      "cell_type": "code",
      "execution_count": 12,
      "metadata": {
        "colab": {
          "base_uri": "https://localhost:8080/"
        },
        "id": "ZTFNZty53lO3",
        "outputId": "f406022b-b2ac-420b-e492-4a7d27180175"
      },
      "outputs": [
        {
          "data": {
            "text/plain": [
              "<qiskit.circuit.instructionset.InstructionSet at 0x110db45b0>"
            ]
          },
          "execution_count": 12,
          "metadata": {},
          "output_type": "execute_result"
        }
      ],
      "source": [
        "circuit.x(0)"
      ]
    },
    {
      "cell_type": "code",
      "execution_count": 13,
      "metadata": {
        "colab": {
          "base_uri": "https://localhost:8080/",
          "height": 191
        },
        "id": "37Tul_rq3lMD",
        "outputId": "56aa85a5-c442-410c-d72b-95fa17a9b8f0"
      },
      "outputs": [
        {
          "data": {
            "image/png": "[encoded data removed]",
            "text/plain": [
              "<Figure size 185.453x200.667 with 1 Axes>"
            ]
          },
          "execution_count": 13,
          "metadata": {},
          "output_type": "execute_result"
        }
      ],
      "source": [
        "circuit.draw('mpl')"
      ]
    },
    {
      "cell_type": "code",
      "execution_count": 14,
      "metadata": {
        "id": "7zKdvpBC5g0V"
      },
      "outputs": [],
      "source": [
        "from qiskit.quantum_info import Statevector"
      ]
    },
    {
      "cell_type": "code",
      "execution_count": 15,
      "metadata": {
        "colab": {
          "base_uri": "https://localhost:8080/"
        },
        "id": "Yt6gJxBI5gxg",
        "outputId": "ff6d5f18-9293-42e5-a31b-52af2dfa604c"
      },
      "outputs": [
        {
          "name": "stdout",
          "output_type": "stream",
          "text": [
            "Statevector([0.+0.j, 1.+0.j],\n",
            "            dims=(2,))\n"
          ]
        }
      ],
      "source": [
        "Statevector.from_instruction(circuit)"
      ]
    },
    {
      "cell_type": "markdown",
      "metadata": {
        "id": "Hovvh68r-s9M"
      },
      "source": [
        "### Measurement"
      ]
    },
    {
      "cell_type": "code",
      "execution_count": 16,
      "metadata": {
        "colab": {
          "base_uri": "https://localhost:8080/"
        },
        "id": "LVQkc8V-5gv2",
        "outputId": "b5b01ce3-db03-4faa-c52f-3854639ade8e"
      },
      "outputs": [
        {
          "data": {
            "text/plain": [
              "<qiskit.circuit.instructionset.InstructionSet at 0x110f0d6d0>"
            ]
          },
          "execution_count": 16,
          "metadata": {},
          "output_type": "execute_result"
        }
      ],
      "source": [
        "circuit.measure(0,0)"
      ]
    },
    {
      "cell_type": "code",
      "execution_count": 17,
      "metadata": {
        "colab": {
          "base_uri": "https://localhost:8080/",
          "height": 191
        },
        "collapsed": true,
        "id": "rDjPXza65gsN",
        "outputId": "7252472f-0d22-4c48-e2f5-18b354506823"
      },
      "outputs": [
        {
          "data": {
            "image/png": "[encoded data removed]",
            "text/plain": [
              "<Figure size 269.064x200.667 with 1 Axes>"
            ]
          },
          "execution_count": 17,
          "metadata": {},
          "output_type": "execute_result"
        }
      ],
      "source": [
        "circuit.draw('mpl')"
      ]
    },
    {
      "cell_type": "code",
      "execution_count": 18,
      "metadata": {
        "colab": {
          "base_uri": "https://localhost:8080/"
        },
        "id": "c3f6MQOc5gpc",
        "outputId": "675ddd70-285e-407e-abca-f0a165b19af1"
      },
      "outputs": [
        {
          "name": "stdout",
          "output_type": "stream",
          "text": [
            "Defaulting to user installation because normal site-packages is not writeable\n",
            "Collecting qiskit_aer\n",
            "  Downloading qiskit_aer-0.17.2-cp39-cp39-macosx_11_0_arm64.whl (2.1 MB)\n",
            "\u001b[K     |████████████████████████████████| 2.1 MB 3.2 MB/s eta 0:00:01\n",
            "\u001b[?25hRequirement already satisfied: scipy>=1.0 in /Users/harshitagarwal/Library/Python/3.9/lib/python/site-packages (from qiskit_aer) (1.13.1)\n",
            "Requirement already satisfied: numpy>=1.16.3 in /Users/harshitagarwal/Library/Python/3.9/lib/python/site-packages (from qiskit_aer) (2.0.2)\n",
            "Requirement already satisfied: python-dateutil>=2.8.0 in /Users/harshitagarwal/Library/Python/3.9/lib/python/site-packages (from qiskit_aer) (2.9.0.post0)\n",
            "Requirement already satisfied: psutil>=5 in /Users/harshitagarwal/Library/Python/3.9/lib/python/site-packages (from qiskit_aer) (7.1.0)\n",
            "Requirement already satisfied: qiskit>=1.1.0 in /Users/harshitagarwal/Library/Python/3.9/lib/python/site-packages (from qiskit_aer) (2.2.1)\n",
            "Requirement already satisfied: six>=1.5 in /Library/Developer/CommandLineTools/Library/Frameworks/Python3.framework/Versions/3.9/lib/python3.9/site-packages (from python-dateutil>=2.8.0->qiskit_aer) (1.15.0)\n",
            "Requirement already satisfied: dill>=0.3 in /Users/harshitagarwal/Library/Python/3.9/lib/python/site-packages (from qiskit>=1.1.0->qiskit_aer) (0.4.0)\n",
            "Requirement already satisfied: rustworkx>=0.15.0 in /Users/harshitagarwal/Library/Python/3.9/lib/python/site-packages (from qiskit>=1.1.0->qiskit_aer) (0.17.1)\n",
            "Requirement already satisfied: typing-extensions in /Users/harshitagarwal/Library/Python/3.9/lib/python/site-packages (from qiskit>=1.1.0->qiskit_aer) (4.15.0)\n",
            "Requirement already satisfied: stevedore>=3.0.0 in /Users/harshitagarwal/Library/Python/3.9/lib/python/site-packages (from qiskit>=1.1.0->qiskit_aer) (5.5.0)\n",
            "Installing collected packages: qiskit-aer\n",
            "Successfully installed qiskit-aer-0.17.2\n",
            "\u001b[33mWARNING: You are using pip version 21.2.4; however, version 25.2 is available.\n",
            "You should consider upgrading via the '/Library/Developer/CommandLineTools/usr/bin/python3 -m pip install --upgrade pip' command.\u001b[0m\n"
          ]
        }
      ],
      "source": [
        "!pip3 install qiskit_aer"
      ]
    },
    {
      "cell_type": "code",
      "execution_count": 19,
      "metadata": {
        "id": "JCEkT6i15gnc"
      },
      "outputs": [],
      "source": [
        "from qiskit_aer import Aer"
      ]
    },
    {
      "cell_type": "code",
      "execution_count": 20,
      "metadata": {
        "id": "-2lTgqV4z8pa"
      },
      "outputs": [],
      "source": [
        "from qiskit.visualization import plot_histogram"
      ]
    },
    {
      "cell_type": "code",
      "execution_count": 21,
      "metadata": {
        "colab": {
          "base_uri": "https://localhost:8080/",
          "height": 487
        },
        "collapsed": true,
        "id": "j-wFA-JKz8nU",
        "outputId": "9cd571b3-fd4a-47d1-a04f-ca8b52518793"
      },
      "outputs": [
        {
          "data": {
            "image/png": "[encoded data removed]",
            "text/plain": [
              "<Figure size 640x480 with 1 Axes>"
            ]
          },
          "execution_count": 21,
          "metadata": {},
          "output_type": "execute_result"
        }
      ],
      "source": [
        "backend = Aer.get_backend('qasm_simulator')\n",
        "job = backend.run(circuit, shots=1000)\n",
        "counts = job.result().get_counts()\n",
        "plot_histogram(counts)"
      ]
    },
    {
      "cell_type": "code",
      "execution_count": 22,
      "metadata": {
        "id": "yYuRFYko8UWI"
      },
      "outputs": [],
      "source": [
        "from qiskit.transpiler import generate_preset_pass_manager"
      ]
    },
    {
      "cell_type": "code",
      "execution_count": 23,
      "metadata": {
        "id": "M7I6OAjx8UH7"
      },
      "outputs": [
        {
          "name": "stderr",
          "output_type": "stream",
          "text": [
            "/Users/harshitagarwal/Library/Python/3.9/lib/python/site-packages/urllib3/__init__.py:35: NotOpenSSLWarning: urllib3 v2 only supports OpenSSL 1.1.1+, currently the 'ssl' module is compiled with 'LibreSSL 2.8.3'. See: https://github.com/urllib3/urllib3/issues/3020\n",
            "  warnings.warn(\n",
            "/var/folders/yn/q_cgy5m947g4bj3shsg12lpc0000gn/T/ipykernel_15266/2018907173.py:1: DeprecationWarning: Using qiskit-ibm-runtime with Python 3.9 is deprecated as of the 0.41.0 release. Support for running qiskit-ibm-runtime with Python 3.9 will be removed in a future release.\n",
            "  from qiskit_ibm_runtime import Sampler\n"
          ]
        }
      ],
      "source": [
        "from qiskit_ibm_runtime import Sampler"
      ]
    },
    {
      "cell_type": "code",
      "execution_count": 24,
      "metadata": {
        "id": "Psoamw7o8UFJ"
      },
      "outputs": [],
      "source": [
        "from qiskit_ibm_runtime import Session"
      ]
    },
    {
      "cell_type": "code",
      "execution_count": 25,
      "metadata": {
        "id": "Bdw5LJGS8UDC"
      },
      "outputs": [],
      "source": [
        "from qiskit_ibm_runtime import QiskitRuntimeService"
      ]
    },
    {
      "cell_type": "code",
      "execution_count": 26,
      "metadata": {
        "id": "4iGqZ0OY8UAu"
      },
      "outputs": [],
      "source": [
        "service = QiskitRuntimeService.save_account(\n",
        "    token=\"oelMxEhQNiHqszrPGRh3IbNg9iMj67-tD88LsI1COwY7\",\n",
        "    instance=\"crn:v1:bluemix:public:quantum-computing:us-east:a/cccd6a0d66014c88bba0568bcfb0a559:f759b0ba-e0ba-4c32-8498-7566ed8f728d::\",\n",
        "    plans_preference=['open'],\n",
        "    region=\"us-east\",\n",
        "    name=\"Harshit Agarwal\",\n",
        "    set_as_default=True,\n",
        "    overwrite=True,\n",
        ")"
      ]
    },
    {
      "cell_type": "code",
      "execution_count": 27,
      "metadata": {
        "id": "sO-SNNoy8T-F"
      },
      "outputs": [
        {
          "name": "stderr",
          "output_type": "stream",
          "text": [
            "management.get:WARNING:2025-10-05 21:49:47,565: Loading default saved account\n"
          ]
        }
      ],
      "source": [
        "service = QiskitRuntimeService()"
      ]
    },
    {
      "cell_type": "code",
      "execution_count": 28,
      "metadata": {
        "colab": {
          "base_uri": "https://localhost:8080/"
        },
        "id": "-s9dAdsV-zlz",
        "outputId": "309e083a-c856-41c2-dc93-e73f93fc77b7"
      },
      "outputs": [
        {
          "name": "stdout",
          "output_type": "stream",
          "text": [
            "<QiskitRuntimeService>\n"
          ]
        }
      ],
      "source": [
        "print(service)"
      ]
    },
    {
      "cell_type": "code",
      "execution_count": 29,
      "metadata": {
        "id": "bXRqcFou-zij"
      },
      "outputs": [],
      "source": [
        "backend_real = service.least_busy(simulator=False,operational=True)"
      ]
    },
    {
      "cell_type": "code",
      "execution_count": 30,
      "metadata": {
        "colab": {
          "base_uri": "https://localhost:8080/"
        },
        "id": "M-uxSem--zfv",
        "outputId": "c5739c9f-2073-4efd-e649-b27a0632cf06"
      },
      "outputs": [
        {
          "data": {
            "text/plain": [
              "<IBMBackend('ibm_torino')>"
            ]
          },
          "execution_count": 30,
          "metadata": {},
          "output_type": "execute_result"
        }
      ],
      "source": [
        "backend_real"
      ]
    },
    {
      "cell_type": "code",
      "execution_count": 31,
      "metadata": {
        "id": "QkSyD3bC-zdO"
      },
      "outputs": [],
      "source": [
        "pm_real = generate_preset_pass_manager(backend=backend_real, optimization_level=0)"
      ]
    },
    {
      "cell_type": "code",
      "execution_count": 32,
      "metadata": {
        "id": "Ksuxss9F-za_"
      },
      "outputs": [],
      "source": [
        "transpiled_circuit = pm_real.run(circuit)"
      ]
    },
    {
      "cell_type": "code",
      "execution_count": 33,
      "metadata": {
        "colab": {
          "base_uri": "https://localhost:8080/",
          "height": 191
        },
        "id": "2KBPZCKXDNPG",
        "outputId": "794acfbe-465b-4f03-c296-419923c81715"
      },
      "outputs": [
        {
          "data": {
            "image/png": "[encoded data removed]",
            "text/plain": [
              "<Figure size 269.064x200.667 with 1 Axes>"
            ]
          },
          "execution_count": 33,
          "metadata": {},
          "output_type": "execute_result"
        }
      ],
      "source": [
        "circuit.draw('mpl')"
      ]
    },
    {
      "cell_type": "code",
      "execution_count": 34,
      "metadata": {
        "colab": {
          "base_uri": "https://localhost:8080/",
          "height": 191
        },
        "id": "s_MxhYp8B_Gj",
        "outputId": "b7cedc60-7d5a-406f-a008-14ef3195a4c0"
      },
      "outputs": [
        {
          "data": {
            "image/png": "[encoded data removed]",
            "text/plain": [
              "<Figure size 339.371x200.667 with 1 Axes>"
            ]
          },
          "execution_count": 34,
          "metadata": {},
          "output_type": "execute_result"
        }
      ],
      "source": [
        "transpiled_circuit.draw('mpl',idle_wires=False)"
      ]
    },
    {
      "cell_type": "code",
      "execution_count": 35,
      "metadata": {
        "id": "RKzv9l7DB_D0"
      },
      "outputs": [],
      "source": [
        "sampler_real = Sampler(mode=backend_real)\n",
        "job_sampler = sampler_real.run([(transpiled_circuit)],shots=1024)"
      ]
    },
    {
      "cell_type": "code",
      "execution_count": 36,
      "metadata": {
        "colab": {
          "base_uri": "https://localhost:8080/"
        },
        "id": "baxA-9JYFLIw",
        "outputId": "3a57f653-face-4021-e0ac-4f532404af44"
      },
      "outputs": [
        {
          "data": {
            "text/plain": [
              "<qiskit_ibm_runtime.sampler.SamplerV2 at 0x1283049a0>"
            ]
          },
          "execution_count": 36,
          "metadata": {},
          "output_type": "execute_result"
        }
      ],
      "source": [
        "sampler_real"
      ]
    },
    {
      "cell_type": "code",
      "execution_count": 37,
      "metadata": {
        "colab": {
          "base_uri": "https://localhost:8080/"
        },
        "id": "IB3EsO8eFLGM",
        "outputId": "24f05852-487e-47d7-82c9-c464c711af3f"
      },
      "outputs": [
        {
          "name": "stdout",
          "output_type": "stream",
          "text": [
            ">>> Job Id: d3h9lbc1nk1s739ob2r0\n",
            ">>> Job Id: QUEUED\n"
          ]
        }
      ],
      "source": [
        "print(f\">>> Job Id: {job_sampler.job_id()}\")\n",
        "print(f\">>> Job Id: {job_sampler.status()}\")"
      ]
    },
    {
      "cell_type": "code",
      "execution_count": 38,
      "metadata": {
        "colab": {
          "base_uri": "https://localhost:8080/"
        },
        "id": "3qB3jA0OFLDR",
        "outputId": "ac5cb03b-1cd3-4ffb-83c6-8e3031f8f2b4"
      },
      "outputs": [
        {
          "data": {
            "text/plain": [
              "PrimitiveResult([SamplerPubResult(data=DataBin(c=BitArray(<shape=(), num_shots=1024, num_bits=1>)), metadata={'circuit_metadata': {}})], metadata={'execution': {'execution_spans': ExecutionSpans([DoubleSliceSpan(<start='2025-10-05 16:20:15', stop='2025-10-05 16:20:19', size=1024>)])}, 'version': 2})"
            ]
          },
          "execution_count": 38,
          "metadata": {},
          "output_type": "execute_result"
        }
      ],
      "source": [
        "result_sampler = job_sampler.result()\n",
        "result_sampler"
      ]
    },
    {
      "cell_type": "code",
      "execution_count": 39,
      "metadata": {
        "id": "p3DLVTPnB_BR"
      },
      "outputs": [],
      "source": [
        "counts_real = result_sampler[0].data.c.get_counts()"
      ]
    },
    {
      "cell_type": "code",
      "execution_count": 40,
      "metadata": {
        "colab": {
          "base_uri": "https://localhost:8080/"
        },
        "id": "TWMrZW9AB--w",
        "outputId": "9d6a91ad-a8c5-4058-a3a1-c45dad788ef5"
      },
      "outputs": [
        {
          "data": {
            "text/plain": [
              "{'1': 849, '0': 175}"
            ]
          },
          "execution_count": 40,
          "metadata": {},
          "output_type": "execute_result"
        }
      ],
      "source": [
        "counts_real"
      ]
    },
    {
      "cell_type": "code",
      "execution_count": 41,
      "metadata": {
        "colab": {
          "base_uri": "https://localhost:8080/",
          "height": 487
        },
        "id": "HlIrgkT2IOhn",
        "outputId": "0ed9c683-b4cf-42ce-f90d-4a0bbe5114e9"
      },
      "outputs": [
        {
          "data": {
            "image/png": "[encoded data removed]",
            "text/plain": [
              "<Figure size 640x480 with 1 Axes>"
            ]
          },
          "execution_count": 41,
          "metadata": {},
          "output_type": "execute_result"
        }
      ],
      "source": [
        "plot_histogram(counts_real)"
      ]
    },
    {
      "cell_type": "markdown",
      "metadata": {
        "id": "le0TGgsfU1f3"
      },
      "source": [
        "# **Implementation of GATES**"
      ]
    },
    {
      "cell_type": "markdown",
      "metadata": {},
      "source": [
        "# # Hadamard Gate"
      ]
    },
    {
      "cell_type": "code",
      "execution_count": 43,
      "metadata": {
        "id": "R9ikOlVyIOdO"
      },
      "outputs": [
        {
          "data": {
            "text/plain": [
              "<qiskit.circuit.instructionset.InstructionSet at 0x1280ada00>"
            ]
          },
          "execution_count": 43,
          "metadata": {},
          "output_type": "execute_result"
        }
      ],
      "source": [
        "circuit =   QuantumCircuit(1,1)\n",
        "circuit.h(0)\n",
        "circuit.measure(0,0)"
      ]
    },
    {
      "cell_type": "code",
      "execution_count": 44,
      "metadata": {
        "id": "cOyaA_9qU7-s"
      },
      "outputs": [
        {
          "data": {
            "image/png": "[encoded data removed]",
            "text/plain": [
              "<Figure size 269.064x200.667 with 1 Axes>"
            ]
          },
          "execution_count": 44,
          "metadata": {},
          "output_type": "execute_result"
        }
      ],
      "source": [
        "circuit.draw('mpl')"
      ]
    },
    {
      "cell_type": "code",
      "execution_count": 45,
      "metadata": {
        "id": "PjxJU9E5U77-"
      },
      "outputs": [
        {
          "data": {
            "image/png": "[encoded data removed]",
            "text/plain": [
              "<Figure size 640x480 with 1 Axes>"
            ]
          },
          "execution_count": 45,
          "metadata": {},
          "output_type": "execute_result"
        }
      ],
      "source": [
        "backend = Aer.get_backend('qasm_simulator')\n",
        "job = backend.run(circuit, shots=1024)\n",
        "counts = job.result().get_counts()\n",
        "plot_histogram(counts)"
      ]
    },
    {
      "cell_type": "markdown",
      "metadata": {},
      "source": [
        "# # Hadamard Gate (Pennylane)"
      ]
    },
    {
      "cell_type": "code",
      "execution_count": null,
      "metadata": {
        "id": "z-A9d3imU73x"
      },
      "outputs": [],
      "source": []
    },
    {
      "cell_type": "code",
      "execution_count": 47,
      "metadata": {},
      "outputs": [],
      "source": [
        "from qiskit.quantum_info import Statevector\n",
        "from qiskit.visualization import plot_bloch_multivector"
      ]
    },
    {
      "cell_type": "code",
      "execution_count": null,
      "metadata": {},
      "outputs": [],
      "source": [
        "circuit =   QuantumCircuit(1,1)\n",
        "circuit.h(0)\n",
        "circuit.measure(0,0)"
      ]
    },
    {
      "cell_type": "code",
      "execution_count": null,
      "metadata": {},
      "outputs": [],
      "source": [
        "psi = Statevector(circuit)"
      ]
    },
    {
      "cell_type": "code",
      "execution_count": 49,
      "metadata": {},
      "outputs": [
        {
          "data": {
            "text/plain": [
              "<qiskit.circuit.instructionset.InstructionSet at 0x1288e6c70>"
            ]
          },
          "execution_count": 49,
          "metadata": {},
          "output_type": "execute_result"
        }
      ],
      "source": [
        "#00 + 11\n",
        "\n",
        "circuit1 = QuantumCircuit(2,2)\n",
        "circuit1.x(0)\n",
        "circuit1.h(0)\n",
        "circuit1.cx(0,1)\n",
        "circuit1.measure(0,0)\n",
        "circuit1.measure(1,1)\n"
      ]
    },
    {
      "cell_type": "code",
      "execution_count": 50,
      "metadata": {},
      "outputs": [
        {
          "data": {
            "image/png": "[encoded data removed]",
            "text/plain": [
              "<Figure size 538.128x284.278 with 1 Axes>"
            ]
          },
          "execution_count": 50,
          "metadata": {},
          "output_type": "execute_result"
        }
      ],
      "source": [
        "circuit1.draw('mpl')"
      ]
    },
    {
      "cell_type": "code",
      "execution_count": null,
      "metadata": {
        "id": "JN4MNij7IObR"
      },
      "outputs": [],
      "source": []
    }
  ],
  "metadata": {
    "colab": {
      "provenance": []
    },
    "kernelspec": {
      "display_name": "Python 3",
      "name": "python3"
    },
    "language_info": {
      "codemirror_mode": {
        "name": "ipython",
        "version": 3
      },
      "file_extension": ".py",
      "mimetype": "text/x-python",
      "name": "python",
      "nbconvert_exporter": "python",
      "pygments_lexer": "ipython3",
      "version": "3.9.6"
    }
  },
  "nbformat": 4,
  "nbformat_minor": 0
}
